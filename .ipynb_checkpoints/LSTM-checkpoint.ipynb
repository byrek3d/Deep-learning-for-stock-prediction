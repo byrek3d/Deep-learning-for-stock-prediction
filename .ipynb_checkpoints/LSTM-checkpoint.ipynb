{
 "cells": [
  {
   "cell_type": "markdown",
   "metadata": {},
   "source": [
    "https://randerson112358.medium.com/stock-price-prediction-using-python-machine-learning-e82a039ac2bb"
   ]
  },
  {
   "cell_type": "code",
   "execution_count": 1,
   "metadata": {},
   "outputs": [],
   "source": [
    "import math\n",
    "\n",
    "import numpy as np\n",
    "import pandas as pd\n",
    "from sklearn.preprocessing import MinMaxScaler\n",
    "from keras.models import Sequential\n",
    "from keras.layers import Dense, LSTM, Dropout\n",
    "import matplotlib.pyplot as plt\n",
    "import tensorflow as tf"
   ]
  },
  {
   "cell_type": "code",
   "execution_count": 57,
   "metadata": {},
   "outputs": [],
   "source": [
    "df= pd.read_csv('./data/AXP_2010-01-01_to_2020-01-01.csv')"
   ]
  },
  {
   "cell_type": "code",
   "execution_count": 58,
   "metadata": {},
   "outputs": [
    {
     "data": {
      "text/html": [
       "<div>\n",
       "<style scoped>\n",
       "    .dataframe tbody tr th:only-of-type {\n",
       "        vertical-align: middle;\n",
       "    }\n",
       "\n",
       "    .dataframe tbody tr th {\n",
       "        vertical-align: top;\n",
       "    }\n",
       "\n",
       "    .dataframe thead th {\n",
       "        text-align: right;\n",
       "    }\n",
       "</style>\n",
       "<table border=\"1\" class=\"dataframe\">\n",
       "  <thead>\n",
       "    <tr style=\"text-align: right;\">\n",
       "      <th></th>\n",
       "      <th>symbol</th>\n",
       "      <th>date</th>\n",
       "      <th>close</th>\n",
       "      <th>high</th>\n",
       "      <th>low</th>\n",
       "      <th>open</th>\n",
       "      <th>volume</th>\n",
       "      <th>adjClose</th>\n",
       "      <th>adjHigh</th>\n",
       "      <th>adjLow</th>\n",
       "      <th>adjOpen</th>\n",
       "      <th>adjVolume</th>\n",
       "      <th>divCash</th>\n",
       "      <th>splitFactor</th>\n",
       "    </tr>\n",
       "  </thead>\n",
       "  <tbody>\n",
       "    <tr>\n",
       "      <th>0</th>\n",
       "      <td>AXP</td>\n",
       "      <td>2010-01-04 00:00:00+00:00</td>\n",
       "      <td>40.92</td>\n",
       "      <td>41.10</td>\n",
       "      <td>40.39</td>\n",
       "      <td>40.81</td>\n",
       "      <td>6894300</td>\n",
       "      <td>34.658048</td>\n",
       "      <td>34.810503</td>\n",
       "      <td>34.209154</td>\n",
       "      <td>34.564881</td>\n",
       "      <td>6894300</td>\n",
       "      <td>0.00</td>\n",
       "      <td>1.0</td>\n",
       "    </tr>\n",
       "    <tr>\n",
       "      <th>1</th>\n",
       "      <td>AXP</td>\n",
       "      <td>2010-01-05 00:00:00+00:00</td>\n",
       "      <td>40.83</td>\n",
       "      <td>41.23</td>\n",
       "      <td>40.37</td>\n",
       "      <td>40.83</td>\n",
       "      <td>10641200</td>\n",
       "      <td>34.581821</td>\n",
       "      <td>34.920609</td>\n",
       "      <td>34.192214</td>\n",
       "      <td>34.581821</td>\n",
       "      <td>10641200</td>\n",
       "      <td>0.00</td>\n",
       "      <td>1.0</td>\n",
       "    </tr>\n",
       "    <tr>\n",
       "      <th>2</th>\n",
       "      <td>AXP</td>\n",
       "      <td>2010-01-06 00:00:00+00:00</td>\n",
       "      <td>41.49</td>\n",
       "      <td>41.67</td>\n",
       "      <td>41.17</td>\n",
       "      <td>41.23</td>\n",
       "      <td>8399400</td>\n",
       "      <td>35.140822</td>\n",
       "      <td>35.293276</td>\n",
       "      <td>34.869791</td>\n",
       "      <td>34.920609</td>\n",
       "      <td>8399400</td>\n",
       "      <td>0.00</td>\n",
       "      <td>1.0</td>\n",
       "    </tr>\n",
       "    <tr>\n",
       "      <th>3</th>\n",
       "      <td>AXP</td>\n",
       "      <td>2010-01-07 00:00:00+00:00</td>\n",
       "      <td>41.98</td>\n",
       "      <td>42.24</td>\n",
       "      <td>41.11</td>\n",
       "      <td>41.26</td>\n",
       "      <td>8981700</td>\n",
       "      <td>35.708292</td>\n",
       "      <td>35.929449</td>\n",
       "      <td>34.968268</td>\n",
       "      <td>35.095858</td>\n",
       "      <td>8981700</td>\n",
       "      <td>0.18</td>\n",
       "      <td>1.0</td>\n",
       "    </tr>\n",
       "    <tr>\n",
       "      <th>4</th>\n",
       "      <td>AXP</td>\n",
       "      <td>2010-01-08 00:00:00+00:00</td>\n",
       "      <td>41.95</td>\n",
       "      <td>42.48</td>\n",
       "      <td>41.40</td>\n",
       "      <td>41.76</td>\n",
       "      <td>7907700</td>\n",
       "      <td>35.682774</td>\n",
       "      <td>36.133593</td>\n",
       "      <td>35.214943</td>\n",
       "      <td>35.521159</td>\n",
       "      <td>7907700</td>\n",
       "      <td>0.00</td>\n",
       "      <td>1.0</td>\n",
       "    </tr>\n",
       "  </tbody>\n",
       "</table>\n",
       "</div>"
      ],
      "text/plain": [
       "  symbol                       date  close   high    low   open    volume  \\\n",
       "0    AXP  2010-01-04 00:00:00+00:00  40.92  41.10  40.39  40.81   6894300   \n",
       "1    AXP  2010-01-05 00:00:00+00:00  40.83  41.23  40.37  40.83  10641200   \n",
       "2    AXP  2010-01-06 00:00:00+00:00  41.49  41.67  41.17  41.23   8399400   \n",
       "3    AXP  2010-01-07 00:00:00+00:00  41.98  42.24  41.11  41.26   8981700   \n",
       "4    AXP  2010-01-08 00:00:00+00:00  41.95  42.48  41.40  41.76   7907700   \n",
       "\n",
       "    adjClose    adjHigh     adjLow    adjOpen  adjVolume  divCash  splitFactor  \n",
       "0  34.658048  34.810503  34.209154  34.564881    6894300     0.00          1.0  \n",
       "1  34.581821  34.920609  34.192214  34.581821   10641200     0.00          1.0  \n",
       "2  35.140822  35.293276  34.869791  34.920609    8399400     0.00          1.0  \n",
       "3  35.708292  35.929449  34.968268  35.095858    8981700     0.18          1.0  \n",
       "4  35.682774  36.133593  35.214943  35.521159    7907700     0.00          1.0  "
      ]
     },
     "execution_count": 58,
     "metadata": {},
     "output_type": "execute_result"
    }
   ],
   "source": [
    "df.head()"
   ]
  },
  {
   "cell_type": "code",
   "execution_count": 59,
   "metadata": {},
   "outputs": [],
   "source": [
    "df[\"date\"] = pd.to_datetime(df[\"date\"])\n"
   ]
  },
  {
   "cell_type": "code",
   "execution_count": 60,
   "metadata": {},
   "outputs": [],
   "source": [
    "df.drop(columns=[\"symbol\"], inplace=True)"
   ]
  },
  {
   "cell_type": "code",
   "execution_count": 61,
   "metadata": {},
   "outputs": [],
   "source": [
    "df.set_index(\"date\", inplace=True)"
   ]
  },
  {
   "cell_type": "code",
   "execution_count": 63,
   "metadata": {},
   "outputs": [
    {
     "data": {
      "text/html": [
       "<div>\n",
       "<style scoped>\n",
       "    .dataframe tbody tr th:only-of-type {\n",
       "        vertical-align: middle;\n",
       "    }\n",
       "\n",
       "    .dataframe tbody tr th {\n",
       "        vertical-align: top;\n",
       "    }\n",
       "\n",
       "    .dataframe thead th {\n",
       "        text-align: right;\n",
       "    }\n",
       "</style>\n",
       "<table border=\"1\" class=\"dataframe\">\n",
       "  <thead>\n",
       "    <tr style=\"text-align: right;\">\n",
       "      <th></th>\n",
       "      <th>close</th>\n",
       "      <th>high</th>\n",
       "      <th>low</th>\n",
       "      <th>open</th>\n",
       "      <th>volume</th>\n",
       "      <th>adjClose</th>\n",
       "      <th>adjHigh</th>\n",
       "      <th>adjLow</th>\n",
       "      <th>adjOpen</th>\n",
       "      <th>adjVolume</th>\n",
       "      <th>divCash</th>\n",
       "      <th>splitFactor</th>\n",
       "    </tr>\n",
       "    <tr>\n",
       "      <th>date</th>\n",
       "      <th></th>\n",
       "      <th></th>\n",
       "      <th></th>\n",
       "      <th></th>\n",
       "      <th></th>\n",
       "      <th></th>\n",
       "      <th></th>\n",
       "      <th></th>\n",
       "      <th></th>\n",
       "      <th></th>\n",
       "      <th></th>\n",
       "      <th></th>\n",
       "    </tr>\n",
       "  </thead>\n",
       "  <tbody>\n",
       "    <tr>\n",
       "      <th>2010-01-04 00:00:00+00:00</th>\n",
       "      <td>40.92</td>\n",
       "      <td>41.10</td>\n",
       "      <td>40.39</td>\n",
       "      <td>40.81</td>\n",
       "      <td>6894300</td>\n",
       "      <td>34.658048</td>\n",
       "      <td>34.810503</td>\n",
       "      <td>34.209154</td>\n",
       "      <td>34.564881</td>\n",
       "      <td>6894300</td>\n",
       "      <td>0.00</td>\n",
       "      <td>1.0</td>\n",
       "    </tr>\n",
       "    <tr>\n",
       "      <th>2010-01-05 00:00:00+00:00</th>\n",
       "      <td>40.83</td>\n",
       "      <td>41.23</td>\n",
       "      <td>40.37</td>\n",
       "      <td>40.83</td>\n",
       "      <td>10641200</td>\n",
       "      <td>34.581821</td>\n",
       "      <td>34.920609</td>\n",
       "      <td>34.192214</td>\n",
       "      <td>34.581821</td>\n",
       "      <td>10641200</td>\n",
       "      <td>0.00</td>\n",
       "      <td>1.0</td>\n",
       "    </tr>\n",
       "    <tr>\n",
       "      <th>2010-01-06 00:00:00+00:00</th>\n",
       "      <td>41.49</td>\n",
       "      <td>41.67</td>\n",
       "      <td>41.17</td>\n",
       "      <td>41.23</td>\n",
       "      <td>8399400</td>\n",
       "      <td>35.140822</td>\n",
       "      <td>35.293276</td>\n",
       "      <td>34.869791</td>\n",
       "      <td>34.920609</td>\n",
       "      <td>8399400</td>\n",
       "      <td>0.00</td>\n",
       "      <td>1.0</td>\n",
       "    </tr>\n",
       "    <tr>\n",
       "      <th>2010-01-07 00:00:00+00:00</th>\n",
       "      <td>41.98</td>\n",
       "      <td>42.24</td>\n",
       "      <td>41.11</td>\n",
       "      <td>41.26</td>\n",
       "      <td>8981700</td>\n",
       "      <td>35.708292</td>\n",
       "      <td>35.929449</td>\n",
       "      <td>34.968268</td>\n",
       "      <td>35.095858</td>\n",
       "      <td>8981700</td>\n",
       "      <td>0.18</td>\n",
       "      <td>1.0</td>\n",
       "    </tr>\n",
       "    <tr>\n",
       "      <th>2010-01-08 00:00:00+00:00</th>\n",
       "      <td>41.95</td>\n",
       "      <td>42.48</td>\n",
       "      <td>41.40</td>\n",
       "      <td>41.76</td>\n",
       "      <td>7907700</td>\n",
       "      <td>35.682774</td>\n",
       "      <td>36.133593</td>\n",
       "      <td>35.214943</td>\n",
       "      <td>35.521159</td>\n",
       "      <td>7907700</td>\n",
       "      <td>0.00</td>\n",
       "      <td>1.0</td>\n",
       "    </tr>\n",
       "  </tbody>\n",
       "</table>\n",
       "</div>"
      ],
      "text/plain": [
       "                           close   high    low   open    volume   adjClose  \\\n",
       "date                                                                         \n",
       "2010-01-04 00:00:00+00:00  40.92  41.10  40.39  40.81   6894300  34.658048   \n",
       "2010-01-05 00:00:00+00:00  40.83  41.23  40.37  40.83  10641200  34.581821   \n",
       "2010-01-06 00:00:00+00:00  41.49  41.67  41.17  41.23   8399400  35.140822   \n",
       "2010-01-07 00:00:00+00:00  41.98  42.24  41.11  41.26   8981700  35.708292   \n",
       "2010-01-08 00:00:00+00:00  41.95  42.48  41.40  41.76   7907700  35.682774   \n",
       "\n",
       "                             adjHigh     adjLow    adjOpen  adjVolume  \\\n",
       "date                                                                    \n",
       "2010-01-04 00:00:00+00:00  34.810503  34.209154  34.564881    6894300   \n",
       "2010-01-05 00:00:00+00:00  34.920609  34.192214  34.581821   10641200   \n",
       "2010-01-06 00:00:00+00:00  35.293276  34.869791  34.920609    8399400   \n",
       "2010-01-07 00:00:00+00:00  35.929449  34.968268  35.095858    8981700   \n",
       "2010-01-08 00:00:00+00:00  36.133593  35.214943  35.521159    7907700   \n",
       "\n",
       "                           divCash  splitFactor  \n",
       "date                                             \n",
       "2010-01-04 00:00:00+00:00     0.00          1.0  \n",
       "2010-01-05 00:00:00+00:00     0.00          1.0  \n",
       "2010-01-06 00:00:00+00:00     0.00          1.0  \n",
       "2010-01-07 00:00:00+00:00     0.18          1.0  \n",
       "2010-01-08 00:00:00+00:00     0.00          1.0  "
      ]
     },
     "execution_count": 63,
     "metadata": {},
     "output_type": "execute_result"
    }
   ],
   "source": [
    "df=df[df.index<pd.Timestamp(\"2020-01-1 0:00:00\", tz=\"Europe/Brussels\")]\n",
    "df.head()"
   ]
  },
  {
   "cell_type": "code",
   "execution_count": 64,
   "metadata": {},
   "outputs": [
    {
     "data": {
      "image/png": "[encoded data removed]",
      "text/plain": [
       "<Figure size 1152x576 with 1 Axes>"
      ]
     },
     "metadata": {
      "needs_background": "light"
     },
     "output_type": "display_data"
    }
   ],
   "source": [
    "#Visualize the closing price history\n",
    "plt.figure(figsize=(16,8))\n",
    "plt.title('Close Price History')\n",
    "plt.plot(df['close'])\n",
    "plt.xlabel('Date',fontsize=18)\n",
    "plt.ylabel('Close Price USD ($)',fontsize=18)\n",
    "plt.show()"
   ]
  },
  {
   "cell_type": "code",
   "execution_count": 65,
   "metadata": {},
   "outputs": [],
   "source": [
    "#Create a new dataframe with only the 'Close' column\n",
    "data = df.filter(['close'])\n",
    "#Converting the dataframe to a numpy array\n",
    "dataset = data.values\n",
    "#Get /Compute the number of rows to train the model on\n",
    "# training_data_len = math.ceil( len(dataset) *.8) \n",
    "training_data_len = len(df[df.index<=pd.Timestamp(\"2019-01-1 0:00:00\", tz=\"Europe/Brussels\")])\n"
   ]
  },
  {
   "cell_type": "code",
   "execution_count": 66,
   "metadata": {},
   "outputs": [],
   "source": [
    "training_df=data[:training_data_len]\n"
   ]
  },
  {
   "cell_type": "code",
   "execution_count": 67,
   "metadata": {},
   "outputs": [],
   "source": [
    "#Scale the all of the data to be values between 0 and 1 \n",
    "scaler = MinMaxScaler(feature_range=(0, 1)) \n",
    "scaled_data = scaler.fit_transform(dataset)"
   ]
  },
  {
   "cell_type": "code",
   "execution_count": 68,
   "metadata": {},
   "outputs": [],
   "source": [
    "data[\"scaled_close\"]=scaled_data\n"
   ]
  },
  {
   "cell_type": "code",
   "execution_count": 69,
   "metadata": {},
   "outputs": [],
   "source": [
    "moving_avg = data.scaled_close.rolling(60, min_periods=60).mean()"
   ]
  },
  {
   "cell_type": "code",
   "execution_count": 70,
   "metadata": {},
   "outputs": [],
   "source": [
    "exponential_moving_avg = data.scaled_close.ewm(alpha=0.1, adjust=False).mean()"
   ]
  },
  {
   "cell_type": "code",
   "execution_count": 71,
   "metadata": {},
   "outputs": [],
   "source": [
    "cumulative_moving_avg = data.scaled_close.expanding().mean()"
   ]
  },
  {
   "cell_type": "code",
   "execution_count": 72,
   "metadata": {},
   "outputs": [],
   "source": [
    "#Create the scaled training data set \n",
    "train_data = scaled_data[0:training_data_len  , : ]\n",
    "train_data_unscaled = dataset[0:training_data_len  , : ]\n",
    "\n",
    "#Split the data into x_train and y_train data sets\n",
    "x_train=[]\n",
    "y_train = []\n",
    "y_train_simple = []\n",
    "\n",
    "for i in range(60,len(train_data)):\n",
    "\n",
    "    x_train.append(np.append(train_data[i-60:i,0], (moving_avg[i], exponential_moving_avg[i], cumulative_moving_avg[i])))\n",
    "\n",
    "\n",
    "    y_train.append(train_data[i,0])\n",
    "    y_train_simple.append(np.sign(train_data_unscaled[i,0]- train_data_unscaled[i-1,0]))"
   ]
  },
  {
   "cell_type": "code",
   "execution_count": 73,
   "metadata": {},
   "outputs": [],
   "source": [
    "#Convert x_train and y_train to numpy arrays\n",
    "x_train, y_train, y_train_simple = np.array(x_train), np.array(y_train), np.array(y_train_simple)\n"
   ]
  },
  {
   "cell_type": "code",
   "execution_count": 74,
   "metadata": {},
   "outputs": [],
   "source": [
    "#Reshape the data into the shape accepted by the LSTM\n",
    "x_train = np.reshape(x_train, (x_train.shape[0],x_train.shape[1],1))\n"
   ]
  },
  {
   "cell_type": "code",
   "execution_count": 75,
   "metadata": {},
   "outputs": [
    {
     "data": {
      "text/plain": [
       "(2204, 63, 1)"
      ]
     },
     "execution_count": 75,
     "metadata": {},
     "output_type": "execute_result"
    }
   ],
   "source": [
    "x_train.shape\n"
   ]
  },
  {
   "cell_type": "code",
   "execution_count": 86,
   "metadata": {},
   "outputs": [],
   "source": [
    "import talos\n",
    "\n",
    "\n",
    "def hyper(x_train, y_train,x_val, y_val, params):\n",
    "\n",
    "    model = Sequential()\n",
    "    model.add(LSTM(units=params['units_first_layer'], return_sequences=True,input_shape=(x_train.shape[1],1)))\n",
    "    model.add(LSTM(units=params['units_first_layer'], return_sequences=False))\n",
    "    model.add(Dense(units=params['units_second_layer']))\n",
    "    model.add(Dropout(params['dropout']))\n",
    "    model.add(Dense(units=1))\n",
    "    \n",
    "    callback = tf.keras.callbacks.EarlyStopping(monitor='loss', patience=1)\n",
    "    model.compile(optimizer=params['optimizer'], loss=['mean_squared_error'], metrics=[tf.keras.metrics.RootMeanSquaredError(name=\"root_mean_squared_error\", dtype=None)])\n",
    "    history = model.fit(x_train, y_train, epochs=4,batch_size=params['batch_size'], validation_data=(x_val, y_val),\n",
    "                        shuffle=False,callbacks=[callback])\n",
    "\n",
    "\n",
    "    return history, model"
   ]
  },
  {
   "cell_type": "code",
   "execution_count": 102,
   "metadata": {},
   "outputs": [],
   "source": [
    "\n",
    "p = {\n",
    "    'units_first_layer':[50, 100],\n",
    "    'units_second_layer':[10,25],\n",
    "    'dropout': [0, 0.3],\n",
    "     'batch_size': [1, 10],\n",
    "     'optimizer': [ 'Adam'],\n",
    "#      'metric':[tf.keras.metrics.RootMeanSquaredError(name=\"root_mean_squared_error\", dtype=None) ]\n",
    "}"
   ]
  },
  {
   "cell_type": "code",
   "execution_count": 103,
   "metadata": {},
   "outputs": [],
   "source": [
    "\n",
    "# p = {\n",
    "#     'units_first_layer':[50],\n",
    "#     'units_second_layer':[25],\n",
    "#     'dropout': [0],\n",
    "#      'batch_size': [1],\n",
    "#     'epochs': [1],\n",
    "#      'optimizer': ['Adam'],\n",
    "#      'losses': ['mean_squared_error'],\n",
    "#      'metric':[tf.keras.metrics.RootMeanSquaredError(name=\"root_mean_squared_error\", dtype=None) ]\n",
    "# }"
   ]
  },
  {
   "cell_type": "code",
   "execution_count": 105,
   "metadata": {},
   "outputs": [
    {
     "name": "stderr",
     "output_type": "stream",
     "text": [
      "\n",
      "\n",
      "  0%|          | 0/16 [00:00<?, ?it/s]\u001b[A\u001b[A"
     ]
    },
    {
     "name": "stdout",
     "output_type": "stream",
     "text": [
      "{'batch_size': 1, 'dropout': 0, 'optimizer': 'Adam', 'units_first_layer': 50, 'units_second_layer': 10}\n"
     ]
    },
    {
     "name": "stderr",
     "output_type": "stream",
     "text": [
      "  0%|          | 0/64 [53:16<?, ?it/s]\n"
     ]
    },
    {
     "name": "stdout",
     "output_type": "stream",
     "text": [
      "Epoch 1/4\n",
      "1323/1323 [==============================] - 45s 34ms/step - loss: 4.3876e-04 - root_mean_squared_error: 0.0209 - val_loss: 0.0287 - val_root_mean_squared_error: 0.1694\n",
      "Epoch 2/4\n",
      "1323/1323 [==============================] - 41s 31ms/step - loss: 0.0011 - root_mean_squared_error: 0.0335 - val_loss: 0.0283 - val_root_mean_squared_error: 0.1681\n"
     ]
    },
    {
     "name": "stderr",
     "output_type": "stream",
     "text": [
      "\n",
      "\n",
      "  6%|▋         | 1/16 [01:30<22:41, 90.78s/it]\u001b[A\u001b[A"
     ]
    },
    {
     "name": "stdout",
     "output_type": "stream",
     "text": [
      "{'batch_size': 1, 'dropout': 0, 'optimizer': 'Adam', 'units_first_layer': 50, 'units_second_layer': 25}\n",
      "Epoch 1/4\n",
      "1323/1323 [==============================] - 45s 34ms/step - loss: 4.7505e-04 - root_mean_squared_error: 0.0218 - val_loss: 0.0289 - val_root_mean_squared_error: 0.1699\n",
      "Epoch 2/4\n",
      "1323/1323 [==============================] - 42s 32ms/step - loss: 0.0012 - root_mean_squared_error: 0.0345 - val_loss: 0.0291 - val_root_mean_squared_error: 0.1706\n"
     ]
    },
    {
     "name": "stderr",
     "output_type": "stream",
     "text": [
      "\n",
      "\n",
      " 12%|█▎        | 2/16 [03:01<21:11, 90.80s/it]\u001b[A\u001b[A"
     ]
    },
    {
     "name": "stdout",
     "output_type": "stream",
     "text": [
      "{'batch_size': 1, 'dropout': 0, 'optimizer': 'Adam', 'units_first_layer': 100, 'units_second_layer': 10}\n",
      "Epoch 1/4\n",
      "1323/1323 [==============================] - 48s 36ms/step - loss: 4.0793e-04 - root_mean_squared_error: 0.0202 - val_loss: 0.0288 - val_root_mean_squared_error: 0.1698\n",
      "Epoch 2/4\n",
      "1323/1323 [==============================] - 48s 36ms/step - loss: 0.0017 - root_mean_squared_error: 0.0418 - val_loss: 0.0273 - val_root_mean_squared_error: 0.1652\n"
     ]
    },
    {
     "name": "stderr",
     "output_type": "stream",
     "text": [
      "\n",
      "\n",
      " 19%|█▉        | 3/16 [04:41<20:14, 93.41s/it]\u001b[A\u001b[A"
     ]
    },
    {
     "name": "stdout",
     "output_type": "stream",
     "text": [
      "{'batch_size': 1, 'dropout': 0, 'optimizer': 'Adam', 'units_first_layer': 100, 'units_second_layer': 25}\n",
      "Epoch 1/4\n",
      "1323/1323 [==============================] - 48s 36ms/step - loss: 4.0598e-04 - root_mean_squared_error: 0.0201 - val_loss: 0.0286 - val_root_mean_squared_error: 0.1690\n",
      "Epoch 2/4\n",
      "1323/1323 [==============================] - 47s 36ms/step - loss: 0.0017 - root_mean_squared_error: 0.0417 - val_loss: 0.0283 - val_root_mean_squared_error: 0.1682\n"
     ]
    },
    {
     "name": "stderr",
     "output_type": "stream",
     "text": [
      "\n",
      "\n",
      " 25%|██▌       | 4/16 [06:19<18:59, 94.95s/it]\u001b[A\u001b[A"
     ]
    },
    {
     "name": "stdout",
     "output_type": "stream",
     "text": [
      "{'batch_size': 1, 'dropout': 0.3, 'optimizer': 'Adam', 'units_first_layer': 50, 'units_second_layer': 10}\n",
      "Epoch 1/4\n",
      "1323/1323 [==============================] - 42s 32ms/step - loss: 0.0024 - root_mean_squared_error: 0.0488 - val_loss: 0.0279 - val_root_mean_squared_error: 0.1671\n",
      "Epoch 2/4\n",
      "1323/1323 [==============================] - 40s 30ms/step - loss: 0.0030 - root_mean_squared_error: 0.0547 - val_loss: 0.0270 - val_root_mean_squared_error: 0.1644\n"
     ]
    },
    {
     "name": "stderr",
     "output_type": "stream",
     "text": [
      "\n",
      "\n",
      " 31%|███▏      | 5/16 [07:44<16:52, 92.00s/it]\u001b[A\u001b[A"
     ]
    },
    {
     "name": "stdout",
     "output_type": "stream",
     "text": [
      "{'batch_size': 1, 'dropout': 0.3, 'optimizer': 'Adam', 'units_first_layer': 50, 'units_second_layer': 25}\n",
      "Epoch 1/4\n",
      "1323/1323 [==============================] - 43s 33ms/step - loss: 0.0018 - root_mean_squared_error: 0.0425 - val_loss: 0.0297 - val_root_mean_squared_error: 0.1722\n",
      "Epoch 2/4\n",
      "1323/1323 [==============================] - 40s 30ms/step - loss: 0.0021 - root_mean_squared_error: 0.0455 - val_loss: 0.0284 - val_root_mean_squared_error: 0.1684\n"
     ]
    },
    {
     "name": "stderr",
     "output_type": "stream",
     "text": [
      "\n",
      "\n",
      " 38%|███▊      | 6/16 [09:11<15:03, 90.36s/it]\u001b[A\u001b[A"
     ]
    },
    {
     "name": "stdout",
     "output_type": "stream",
     "text": [
      "{'batch_size': 1, 'dropout': 0.3, 'optimizer': 'Adam', 'units_first_layer': 100, 'units_second_layer': 10}\n",
      "Epoch 1/4\n",
      "1323/1323 [==============================] - 48s 36ms/step - loss: 0.0027 - root_mean_squared_error: 0.0515 - val_loss: 0.0287 - val_root_mean_squared_error: 0.1694\n",
      "Epoch 2/4\n",
      "1323/1323 [==============================] - 48s 36ms/step - loss: 0.0027 - root_mean_squared_error: 0.0522 - val_loss: 0.0289 - val_root_mean_squared_error: 0.1699\n"
     ]
    },
    {
     "name": "stderr",
     "output_type": "stream",
     "text": [
      "\n",
      "\n",
      " 44%|████▍     | 7/16 [10:50<13:56, 92.98s/it]\u001b[A\u001b[A"
     ]
    },
    {
     "name": "stdout",
     "output_type": "stream",
     "text": [
      "{'batch_size': 1, 'dropout': 0.3, 'optimizer': 'Adam', 'units_first_layer': 100, 'units_second_layer': 25}\n",
      "Epoch 1/4\n",
      "1323/1323 [==============================] - 48s 36ms/step - loss: 0.0020 - root_mean_squared_error: 0.0449 - val_loss: 0.0291 - val_root_mean_squared_error: 0.1705\n",
      "Epoch 2/4\n",
      "1323/1323 [==============================] - 49s 37ms/step - loss: 0.0022 - root_mean_squared_error: 0.0469 - val_loss: 0.0286 - val_root_mean_squared_error: 0.1691\n"
     ]
    },
    {
     "name": "stderr",
     "output_type": "stream",
     "text": [
      "\n",
      "\n",
      " 50%|█████     | 8/16 [12:29<12:39, 94.96s/it]\u001b[A\u001b[A"
     ]
    },
    {
     "name": "stdout",
     "output_type": "stream",
     "text": [
      "{'batch_size': 10, 'dropout': 0, 'optimizer': 'Adam', 'units_first_layer': 50, 'units_second_layer': 10}\n",
      "Epoch 1/4\n",
      "133/133 [==============================] - 7s 56ms/step - loss: 0.0018 - root_mean_squared_error: 0.0428 - val_loss: 0.0151 - val_root_mean_squared_error: 0.1230\n",
      "Epoch 2/4\n",
      "133/133 [==============================] - 6s 48ms/step - loss: 0.0041 - root_mean_squared_error: 0.0642 - val_loss: 0.0160 - val_root_mean_squared_error: 0.1265\n"
     ]
    },
    {
     "name": "stderr",
     "output_type": "stream",
     "text": [
      "\n",
      "\n",
      " 56%|█████▋    | 9/16 [12:47<08:22, 71.78s/it]\u001b[A\u001b[A"
     ]
    },
    {
     "name": "stdout",
     "output_type": "stream",
     "text": [
      "{'batch_size': 10, 'dropout': 0, 'optimizer': 'Adam', 'units_first_layer': 50, 'units_second_layer': 25}\n",
      "Epoch 1/4\n",
      "133/133 [==============================] - 7s 55ms/step - loss: 0.0017 - root_mean_squared_error: 0.0406 - val_loss: 0.0109 - val_root_mean_squared_error: 0.1044\n",
      "Epoch 2/4\n",
      "133/133 [==============================] - 7s 49ms/step - loss: 0.0037 - root_mean_squared_error: 0.0606 - val_loss: 0.0220 - val_root_mean_squared_error: 0.1483\n"
     ]
    },
    {
     "name": "stderr",
     "output_type": "stream",
     "text": [
      "\n",
      "\n",
      " 62%|██████▎   | 10/16 [13:05<05:33, 55.58s/it]\u001b[A\u001b[A"
     ]
    },
    {
     "name": "stdout",
     "output_type": "stream",
     "text": [
      "{'batch_size': 10, 'dropout': 0, 'optimizer': 'Adam', 'units_first_layer': 100, 'units_second_layer': 10}\n",
      "Epoch 1/4\n",
      "133/133 [==============================] - 8s 61ms/step - loss: 0.0014 - root_mean_squared_error: 0.0377 - val_loss: 0.0100 - val_root_mean_squared_error: 0.1000\n",
      "Epoch 2/4\n",
      "133/133 [==============================] - 7s 55ms/step - loss: 0.0032 - root_mean_squared_error: 0.0564 - val_loss: 0.0185 - val_root_mean_squared_error: 0.1361\n"
     ]
    },
    {
     "name": "stderr",
     "output_type": "stream",
     "text": [
      "\n",
      "\n",
      " 69%|██████▉   | 11/16 [13:24<03:43, 44.76s/it]\u001b[A\u001b[A"
     ]
    },
    {
     "name": "stdout",
     "output_type": "stream",
     "text": [
      "{'batch_size': 10, 'dropout': 0, 'optimizer': 'Adam', 'units_first_layer': 100, 'units_second_layer': 25}\n",
      "Epoch 1/4\n",
      "133/133 [==============================] - 8s 63ms/step - loss: 0.0013 - root_mean_squared_error: 0.0367 - val_loss: 0.0108 - val_root_mean_squared_error: 0.1040\n",
      "Epoch 2/4\n",
      "133/133 [==============================] - 7s 56ms/step - loss: 0.0033 - root_mean_squared_error: 0.0573 - val_loss: 0.0236 - val_root_mean_squared_error: 0.1538\n"
     ]
    },
    {
     "name": "stderr",
     "output_type": "stream",
     "text": [
      "\n",
      "\n",
      " 75%|███████▌  | 12/16 [13:44<02:28, 37.25s/it]\u001b[A\u001b[A"
     ]
    },
    {
     "name": "stdout",
     "output_type": "stream",
     "text": [
      "{'batch_size': 10, 'dropout': 0.3, 'optimizer': 'Adam', 'units_first_layer': 50, 'units_second_layer': 10}\n",
      "Epoch 1/4\n",
      "133/133 [==============================] - 7s 55ms/step - loss: 0.0067 - root_mean_squared_error: 0.0818 - val_loss: 0.0129 - val_root_mean_squared_error: 0.1137\n",
      "Epoch 2/4\n",
      "133/133 [==============================] - 6s 48ms/step - loss: 0.0067 - root_mean_squared_error: 0.0821 - val_loss: 0.0154 - val_root_mean_squared_error: 0.1242\n"
     ]
    },
    {
     "name": "stderr",
     "output_type": "stream",
     "text": [
      "\n",
      "\n",
      " 81%|████████▏ | 13/16 [14:02<01:34, 31.36s/it]\u001b[A\u001b[A"
     ]
    },
    {
     "name": "stdout",
     "output_type": "stream",
     "text": [
      "{'batch_size': 10, 'dropout': 0.3, 'optimizer': 'Adam', 'units_first_layer': 50, 'units_second_layer': 25}\n",
      "Epoch 1/4\n",
      "133/133 [==============================] - 7s 55ms/step - loss: 0.0042 - root_mean_squared_error: 0.0651 - val_loss: 0.0173 - val_root_mean_squared_error: 0.1314\n",
      "Epoch 2/4\n",
      "133/133 [==============================] - 6s 48ms/step - loss: 0.0057 - root_mean_squared_error: 0.0758 - val_loss: 0.0189 - val_root_mean_squared_error: 0.1373\n"
     ]
    },
    {
     "name": "stderr",
     "output_type": "stream",
     "text": [
      "\n",
      "\n",
      " 88%|████████▊ | 14/16 [14:20<00:54, 27.27s/it]\u001b[A\u001b[A"
     ]
    },
    {
     "name": "stdout",
     "output_type": "stream",
     "text": [
      "{'batch_size': 10, 'dropout': 0.3, 'optimizer': 'Adam', 'units_first_layer': 100, 'units_second_layer': 10}\n",
      "Epoch 1/4\n",
      "133/133 [==============================] - 8s 61ms/step - loss: 0.0058 - root_mean_squared_error: 0.0762 - val_loss: 0.0127 - val_root_mean_squared_error: 0.1128\n",
      "Epoch 2/4\n",
      "133/133 [==============================] - 7s 55ms/step - loss: 0.0074 - root_mean_squared_error: 0.0863 - val_loss: 0.0250 - val_root_mean_squared_error: 0.1581\n"
     ]
    },
    {
     "name": "stderr",
     "output_type": "stream",
     "text": [
      "\n",
      "\n",
      " 94%|█████████▍| 15/16 [14:39<00:24, 24.91s/it]\u001b[A\u001b[A"
     ]
    },
    {
     "name": "stdout",
     "output_type": "stream",
     "text": [
      "{'batch_size': 10, 'dropout': 0.3, 'optimizer': 'Adam', 'units_first_layer': 100, 'units_second_layer': 25}\n",
      "Epoch 1/4\n",
      "133/133 [==============================] - 8s 64ms/step - loss: 0.0039 - root_mean_squared_error: 0.0627 - val_loss: 0.0088 - val_root_mean_squared_error: 0.0936\n",
      "Epoch 2/4\n",
      "133/133 [==============================] - 7s 56ms/step - loss: 0.0060 - root_mean_squared_error: 0.0776 - val_loss: 0.0177 - val_root_mean_squared_error: 0.1331\n"
     ]
    },
    {
     "name": "stderr",
     "output_type": "stream",
     "text": [
      "\n",
      "\n",
      "100%|██████████| 16/16 [14:59<00:00, 56.21s/it]\u001b[A\u001b[A\n"
     ]
    }
   ],
   "source": [
    "validation_split=math.ceil( len(x_train) *.6)\n",
    "t = talos.Scan(x=x_train[:validation_split], \n",
    "               y=y_train[:validation_split],\n",
    "               x_val=x_train[validation_split:], \n",
    "               y_val=y_train[validation_split:],\n",
    "               model=hyper,\n",
    "               params=p,\n",
    "               print_params=True,\n",
    "               experiment_name='stock')\n",
    "# t = talos.Scan(x=x_train,\n",
    "#                y=y_train,\n",
    "#                model=hyper,\n",
    "#                params=p,\n",
    "#                print_params=True,\n",
    "#                experiment_name='stock')\n"
   ]
  },
  {
   "cell_type": "code",
   "execution_count": 106,
   "metadata": {},
   "outputs": [],
   "source": [
    "analyze_object = talos.Analyze(t)\n"
   ]
  },
  {
   "cell_type": "code",
   "execution_count": 107,
   "metadata": {},
   "outputs": [
    {
     "data": {
      "text/html": [
       "<div>\n",
       "<style scoped>\n",
       "    .dataframe tbody tr th:only-of-type {\n",
       "        vertical-align: middle;\n",
       "    }\n",
       "\n",
       "    .dataframe tbody tr th {\n",
       "        vertical-align: top;\n",
       "    }\n",
       "\n",
       "    .dataframe thead th {\n",
       "        text-align: right;\n",
       "    }\n",
       "</style>\n",
       "<table border=\"1\" class=\"dataframe\">\n",
       "  <thead>\n",
       "    <tr style=\"text-align: right;\">\n",
       "      <th></th>\n",
       "      <th>start</th>\n",
       "      <th>end</th>\n",
       "      <th>duration</th>\n",
       "      <th>round_epochs</th>\n",
       "      <th>loss</th>\n",
       "      <th>root_mean_squared_error</th>\n",
       "      <th>val_loss</th>\n",
       "      <th>val_root_mean_squared_error</th>\n",
       "      <th>batch_size</th>\n",
       "      <th>dropout</th>\n",
       "      <th>optimizer</th>\n",
       "      <th>units_first_layer</th>\n",
       "      <th>units_second_layer</th>\n",
       "    </tr>\n",
       "  </thead>\n",
       "  <tbody>\n",
       "    <tr>\n",
       "      <th>12</th>\n",
       "      <td>12/25/20-191006</td>\n",
       "      <td>12/25/20-191024</td>\n",
       "      <td>17.220162</td>\n",
       "      <td>2</td>\n",
       "      <td>0.006745</td>\n",
       "      <td>0.082129</td>\n",
       "      <td>0.015426</td>\n",
       "      <td>0.124202</td>\n",
       "      <td>10</td>\n",
       "      <td>0.3</td>\n",
       "      <td>Adam</td>\n",
       "      <td>50</td>\n",
       "      <td>10</td>\n",
       "    </tr>\n",
       "  </tbody>\n",
       "</table>\n",
       "</div>"
      ],
      "text/plain": [
       "              start              end   duration  round_epochs      loss  \\\n",
       "12  12/25/20-191006  12/25/20-191024  17.220162             2  0.006745   \n",
       "\n",
       "    root_mean_squared_error  val_loss  val_root_mean_squared_error  \\\n",
       "12                 0.082129  0.015426                     0.124202   \n",
       "\n",
       "    batch_size  dropout optimizer  units_first_layer  units_second_layer  \n",
       "12          10      0.3      Adam                 50                  10  "
      ]
     },
     "execution_count": 107,
     "metadata": {},
     "output_type": "execute_result"
    }
   ],
   "source": [
    "t.data[t.data.val_root_mean_squared_error==analyze_object.low('val_root_mean_squared_error')]"
   ]
  },
  {
   "cell_type": "code",
   "execution_count": 108,
   "metadata": {},
   "outputs": [
    {
     "data": {
      "text/plain": [
       "0.12420234829187393"
      ]
     },
     "execution_count": 108,
     "metadata": {},
     "output_type": "execute_result"
    }
   ],
   "source": [
    "analyze_object.low('val_root_mean_squared_error')\n"
   ]
  },
  {
   "cell_type": "code",
   "execution_count": null,
   "metadata": {},
   "outputs": [],
   "source": [
    "# #Build the LSTM network model\n",
    "# model = Sequential()\n",
    "# model.add(LSTM(units=50, return_sequences=True,input_shape=(x_train.shape[1],1)))\n",
    "# model.add(LSTM(units=50, return_sequences=False))\n",
    "# model.add(Dense(units=25))\n",
    "# model.add(Dense(units=1))\n",
    "\n",
    "# #Compile the model\n",
    "# model.compile(optimizer='adam', loss='mean_squared_error')\n",
    "\n",
    "# #Train the model\n",
    "# model.fit(x_train, y_train, batch_size=1, epochs=1)"
   ]
  },
  {
   "cell_type": "code",
   "execution_count": 109,
   "metadata": {},
   "outputs": [],
   "source": [
    "#Test data set\n",
    "test_data = scaled_data[training_data_len - 60: , : ]\n",
    "moving_avg_test= moving_avg[training_data_len-61:]\n",
    "exponential_moving_avg_test= exponential_moving_avg[training_data_len-61:]\n",
    "cumulative_moving_avg_test = cumulative_moving_avg[training_data_len-61:]\n",
    "\n",
    "#Create the x_test and y_test data sets\n",
    "x_test = []\n",
    "y_test =  dataset[training_data_len : , : ]\n",
    "y_test_simple = np.sign(y_test)\n",
    "for i in range(60,len(test_data)):\n",
    "    \n",
    "    x_test.append(np.append(test_data[i-60:i,0],(moving_avg_test[i],exponential_moving_avg_test[i],cumulative_moving_avg_test[i])))\n",
    "\n",
    "    \n",
    "#Convert x_test to a numpy array \n",
    "x_test = np.array(x_test)  \n",
    "\n",
    "#Reshape the data into the shape accepted by the LSTM\n",
    "x_test = np.reshape(x_test, (x_test.shape[0],x_test.shape[1],1))"
   ]
  },
  {
   "cell_type": "code",
   "execution_count": 79,
   "metadata": {},
   "outputs": [],
   "source": [
    "# #Getting the models predicted price values\n",
    "# predictions = model.predict(x_test) \n",
    "# predictions = scaler.inverse_transform(predictions)#Undo scaling"
   ]
  },
  {
   "cell_type": "code",
   "execution_count": 110,
   "metadata": {},
   "outputs": [],
   "source": [
    "# predictions = t.best_model(metric='root_mean_squared_error', asc=True).predict(x_test) \n",
    "predictions = t.best_model(metric='val_root_mean_squared_error', asc=True).predict(x_test) \n",
    "predictions = scaler.inverse_transform(predictions)\n"
   ]
  },
  {
   "cell_type": "code",
   "execution_count": 111,
   "metadata": {},
   "outputs": [
    {
     "data": {
      "text/plain": [
       "28.17435860694617"
      ]
     },
     "execution_count": 111,
     "metadata": {},
     "output_type": "execute_result"
    }
   ],
   "source": [
    "rmse=np.sqrt(np.mean(((predictions- y_test)**2)))\n",
    "rmse\n",
    "\n"
   ]
  },
  {
   "cell_type": "code",
   "execution_count": 112,
   "metadata": {},
   "outputs": [
    {
     "data": {
      "image/png": "[encoded data removed]",
      "text/plain": [
       "<Figure size 1152x576 with 1 Axes>"
      ]
     },
     "metadata": {
      "needs_background": "light"
     },
     "output_type": "display_data"
    }
   ],
   "source": [
    "#Plot/Create the data for the graph\n",
    "train = data[:training_data_len]\n",
    "valid = data[training_data_len:]\n",
    "valid['Predictions'] = predictions\n",
    "#Visualize the data\n",
    "plt.figure(figsize=(16,8))\n",
    "plt.title('Model')\n",
    "plt.xlabel('Date', fontsize=18)\n",
    "plt.ylabel('Close Price USD ($)', fontsize=18)\n",
    "plt.plot(train['close'])\n",
    "plt.plot(valid[['close', 'Predictions']])\n",
    "plt.legend(['Train', 'Val', 'Predictions'], loc='lower right')\n",
    "plt.show()"
   ]
  },
  {
   "cell_type": "code",
   "execution_count": null,
   "metadata": {},
   "outputs": [],
   "source": []
  }
 ],
 "metadata": {
  "kernelspec": {
   "display_name": "Python 3",
   "language": "python",
   "name": "python3"
  },
  "language_info": {
   "codemirror_mode": {
    "name": "ipython",
    "version": 3
   },
   "file_extension": ".py",
   "mimetype": "text/x-python",
   "name": "python",
   "nbconvert_exporter": "python",
   "pygments_lexer": "ipython3",
   "version": "3.7.6"
  }
 },
 "nbformat": 4,
 "nbformat_minor": 4
}
