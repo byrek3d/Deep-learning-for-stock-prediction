{
 "cells": [
  {
   "cell_type": "markdown",
   "metadata": {},
   "source": [
    "https://randerson112358.medium.com/stock-price-prediction-using-python-machine-learning-e82a039ac2bb"
   ]
  },
  {
   "cell_type": "code",
   "execution_count": 1,
   "metadata": {},
   "outputs": [],
   "source": [
    "import math\n",
    "\n",
    "import numpy as np\n",
    "import pandas as pd\n",
    "from sklearn.preprocessing import MinMaxScaler\n",
    "from keras.models import Sequential\n",
    "from keras.layers import Dense, LSTM\n",
    "import matplotlib.pyplot as plt"
   ]
  },
  {
   "cell_type": "code",
   "execution_count": 2,
   "metadata": {},
   "outputs": [],
   "source": [
    "df= pd.read_csv('./data/AXP_2010-01-01_to_2020-01-01.csv')"
   ]
  },
  {
   "cell_type": "code",
   "execution_count": 3,
   "metadata": {},
   "outputs": [
    {
     "data": {
      "text/html": [
       "<div>\n",
       "<style scoped>\n",
       "    .dataframe tbody tr th:only-of-type {\n",
       "        vertical-align: middle;\n",
       "    }\n",
       "\n",
       "    .dataframe tbody tr th {\n",
       "        vertical-align: top;\n",
       "    }\n",
       "\n",
       "    .dataframe thead th {\n",
       "        text-align: right;\n",
       "    }\n",
       "</style>\n",
       "<table border=\"1\" class=\"dataframe\">\n",
       "  <thead>\n",
       "    <tr style=\"text-align: right;\">\n",
       "      <th></th>\n",
       "      <th>symbol</th>\n",
       "      <th>date</th>\n",
       "      <th>close</th>\n",
       "      <th>high</th>\n",
       "      <th>low</th>\n",
       "      <th>open</th>\n",
       "      <th>volume</th>\n",
       "      <th>adjClose</th>\n",
       "      <th>adjHigh</th>\n",
       "      <th>adjLow</th>\n",
       "      <th>adjOpen</th>\n",
       "      <th>adjVolume</th>\n",
       "      <th>divCash</th>\n",
       "      <th>splitFactor</th>\n",
       "    </tr>\n",
       "  </thead>\n",
       "  <tbody>\n",
       "    <tr>\n",
       "      <th>0</th>\n",
       "      <td>AXP</td>\n",
       "      <td>2010-01-04 00:00:00+00:00</td>\n",
       "      <td>40.92</td>\n",
       "      <td>41.10</td>\n",
       "      <td>40.39</td>\n",
       "      <td>40.81</td>\n",
       "      <td>6894300</td>\n",
       "      <td>34.658048</td>\n",
       "      <td>34.810503</td>\n",
       "      <td>34.209154</td>\n",
       "      <td>34.564881</td>\n",
       "      <td>6894300</td>\n",
       "      <td>0.00</td>\n",
       "      <td>1.0</td>\n",
       "    </tr>\n",
       "    <tr>\n",
       "      <th>1</th>\n",
       "      <td>AXP</td>\n",
       "      <td>2010-01-05 00:00:00+00:00</td>\n",
       "      <td>40.83</td>\n",
       "      <td>41.23</td>\n",
       "      <td>40.37</td>\n",
       "      <td>40.83</td>\n",
       "      <td>10641200</td>\n",
       "      <td>34.581821</td>\n",
       "      <td>34.920609</td>\n",
       "      <td>34.192214</td>\n",
       "      <td>34.581821</td>\n",
       "      <td>10641200</td>\n",
       "      <td>0.00</td>\n",
       "      <td>1.0</td>\n",
       "    </tr>\n",
       "    <tr>\n",
       "      <th>2</th>\n",
       "      <td>AXP</td>\n",
       "      <td>2010-01-06 00:00:00+00:00</td>\n",
       "      <td>41.49</td>\n",
       "      <td>41.67</td>\n",
       "      <td>41.17</td>\n",
       "      <td>41.23</td>\n",
       "      <td>8399400</td>\n",
       "      <td>35.140822</td>\n",
       "      <td>35.293276</td>\n",
       "      <td>34.869791</td>\n",
       "      <td>34.920609</td>\n",
       "      <td>8399400</td>\n",
       "      <td>0.00</td>\n",
       "      <td>1.0</td>\n",
       "    </tr>\n",
       "    <tr>\n",
       "      <th>3</th>\n",
       "      <td>AXP</td>\n",
       "      <td>2010-01-07 00:00:00+00:00</td>\n",
       "      <td>41.98</td>\n",
       "      <td>42.24</td>\n",
       "      <td>41.11</td>\n",
       "      <td>41.26</td>\n",
       "      <td>8981700</td>\n",
       "      <td>35.708292</td>\n",
       "      <td>35.929449</td>\n",
       "      <td>34.968268</td>\n",
       "      <td>35.095858</td>\n",
       "      <td>8981700</td>\n",
       "      <td>0.18</td>\n",
       "      <td>1.0</td>\n",
       "    </tr>\n",
       "    <tr>\n",
       "      <th>4</th>\n",
       "      <td>AXP</td>\n",
       "      <td>2010-01-08 00:00:00+00:00</td>\n",
       "      <td>41.95</td>\n",
       "      <td>42.48</td>\n",
       "      <td>41.40</td>\n",
       "      <td>41.76</td>\n",
       "      <td>7907700</td>\n",
       "      <td>35.682774</td>\n",
       "      <td>36.133593</td>\n",
       "      <td>35.214943</td>\n",
       "      <td>35.521159</td>\n",
       "      <td>7907700</td>\n",
       "      <td>0.00</td>\n",
       "      <td>1.0</td>\n",
       "    </tr>\n",
       "  </tbody>\n",
       "</table>\n",
       "</div>"
      ],
      "text/plain": [
       "  symbol                       date  close   high    low   open    volume  \\\n",
       "0    AXP  2010-01-04 00:00:00+00:00  40.92  41.10  40.39  40.81   6894300   \n",
       "1    AXP  2010-01-05 00:00:00+00:00  40.83  41.23  40.37  40.83  10641200   \n",
       "2    AXP  2010-01-06 00:00:00+00:00  41.49  41.67  41.17  41.23   8399400   \n",
       "3    AXP  2010-01-07 00:00:00+00:00  41.98  42.24  41.11  41.26   8981700   \n",
       "4    AXP  2010-01-08 00:00:00+00:00  41.95  42.48  41.40  41.76   7907700   \n",
       "\n",
       "    adjClose    adjHigh     adjLow    adjOpen  adjVolume  divCash  splitFactor  \n",
       "0  34.658048  34.810503  34.209154  34.564881    6894300     0.00          1.0  \n",
       "1  34.581821  34.920609  34.192214  34.581821   10641200     0.00          1.0  \n",
       "2  35.140822  35.293276  34.869791  34.920609    8399400     0.00          1.0  \n",
       "3  35.708292  35.929449  34.968268  35.095858    8981700     0.18          1.0  \n",
       "4  35.682774  36.133593  35.214943  35.521159    7907700     0.00          1.0  "
      ]
     },
     "execution_count": 3,
     "metadata": {},
     "output_type": "execute_result"
    }
   ],
   "source": [
    "df.head()"
   ]
  },
  {
   "cell_type": "code",
   "execution_count": 4,
   "metadata": {},
   "outputs": [],
   "source": [
    "df[\"date\"] = pd.to_datetime(df[\"date\"])\n"
   ]
  },
  {
   "cell_type": "code",
   "execution_count": 5,
   "metadata": {},
   "outputs": [],
   "source": [
    "df.drop(columns=[\"symbol\"], inplace=True)"
   ]
  },
  {
   "cell_type": "code",
   "execution_count": 6,
   "metadata": {},
   "outputs": [],
   "source": [
    "df.set_index(\"date\", inplace=True)"
   ]
  },
  {
   "cell_type": "code",
   "execution_count": 7,
   "metadata": {},
   "outputs": [
    {
     "data": {
      "text/html": [
       "<div>\n",
       "<style scoped>\n",
       "    .dataframe tbody tr th:only-of-type {\n",
       "        vertical-align: middle;\n",
       "    }\n",
       "\n",
       "    .dataframe tbody tr th {\n",
       "        vertical-align: top;\n",
       "    }\n",
       "\n",
       "    .dataframe thead th {\n",
       "        text-align: right;\n",
       "    }\n",
       "</style>\n",
       "<table border=\"1\" class=\"dataframe\">\n",
       "  <thead>\n",
       "    <tr style=\"text-align: right;\">\n",
       "      <th></th>\n",
       "      <th>close</th>\n",
       "      <th>high</th>\n",
       "      <th>low</th>\n",
       "      <th>open</th>\n",
       "      <th>volume</th>\n",
       "      <th>adjClose</th>\n",
       "      <th>adjHigh</th>\n",
       "      <th>adjLow</th>\n",
       "      <th>adjOpen</th>\n",
       "      <th>adjVolume</th>\n",
       "      <th>divCash</th>\n",
       "      <th>splitFactor</th>\n",
       "    </tr>\n",
       "    <tr>\n",
       "      <th>date</th>\n",
       "      <th></th>\n",
       "      <th></th>\n",
       "      <th></th>\n",
       "      <th></th>\n",
       "      <th></th>\n",
       "      <th></th>\n",
       "      <th></th>\n",
       "      <th></th>\n",
       "      <th></th>\n",
       "      <th></th>\n",
       "      <th></th>\n",
       "      <th></th>\n",
       "    </tr>\n",
       "  </thead>\n",
       "  <tbody>\n",
       "    <tr>\n",
       "      <th>2010-01-04 00:00:00+00:00</th>\n",
       "      <td>40.92</td>\n",
       "      <td>41.10</td>\n",
       "      <td>40.39</td>\n",
       "      <td>40.81</td>\n",
       "      <td>6894300</td>\n",
       "      <td>34.658048</td>\n",
       "      <td>34.810503</td>\n",
       "      <td>34.209154</td>\n",
       "      <td>34.564881</td>\n",
       "      <td>6894300</td>\n",
       "      <td>0.00</td>\n",
       "      <td>1.0</td>\n",
       "    </tr>\n",
       "    <tr>\n",
       "      <th>2010-01-05 00:00:00+00:00</th>\n",
       "      <td>40.83</td>\n",
       "      <td>41.23</td>\n",
       "      <td>40.37</td>\n",
       "      <td>40.83</td>\n",
       "      <td>10641200</td>\n",
       "      <td>34.581821</td>\n",
       "      <td>34.920609</td>\n",
       "      <td>34.192214</td>\n",
       "      <td>34.581821</td>\n",
       "      <td>10641200</td>\n",
       "      <td>0.00</td>\n",
       "      <td>1.0</td>\n",
       "    </tr>\n",
       "    <tr>\n",
       "      <th>2010-01-06 00:00:00+00:00</th>\n",
       "      <td>41.49</td>\n",
       "      <td>41.67</td>\n",
       "      <td>41.17</td>\n",
       "      <td>41.23</td>\n",
       "      <td>8399400</td>\n",
       "      <td>35.140822</td>\n",
       "      <td>35.293276</td>\n",
       "      <td>34.869791</td>\n",
       "      <td>34.920609</td>\n",
       "      <td>8399400</td>\n",
       "      <td>0.00</td>\n",
       "      <td>1.0</td>\n",
       "    </tr>\n",
       "    <tr>\n",
       "      <th>2010-01-07 00:00:00+00:00</th>\n",
       "      <td>41.98</td>\n",
       "      <td>42.24</td>\n",
       "      <td>41.11</td>\n",
       "      <td>41.26</td>\n",
       "      <td>8981700</td>\n",
       "      <td>35.708292</td>\n",
       "      <td>35.929449</td>\n",
       "      <td>34.968268</td>\n",
       "      <td>35.095858</td>\n",
       "      <td>8981700</td>\n",
       "      <td>0.18</td>\n",
       "      <td>1.0</td>\n",
       "    </tr>\n",
       "    <tr>\n",
       "      <th>2010-01-08 00:00:00+00:00</th>\n",
       "      <td>41.95</td>\n",
       "      <td>42.48</td>\n",
       "      <td>41.40</td>\n",
       "      <td>41.76</td>\n",
       "      <td>7907700</td>\n",
       "      <td>35.682774</td>\n",
       "      <td>36.133593</td>\n",
       "      <td>35.214943</td>\n",
       "      <td>35.521159</td>\n",
       "      <td>7907700</td>\n",
       "      <td>0.00</td>\n",
       "      <td>1.0</td>\n",
       "    </tr>\n",
       "  </tbody>\n",
       "</table>\n",
       "</div>"
      ],
      "text/plain": [
       "                           close   high    low   open    volume   adjClose  \\\n",
       "date                                                                         \n",
       "2010-01-04 00:00:00+00:00  40.92  41.10  40.39  40.81   6894300  34.658048   \n",
       "2010-01-05 00:00:00+00:00  40.83  41.23  40.37  40.83  10641200  34.581821   \n",
       "2010-01-06 00:00:00+00:00  41.49  41.67  41.17  41.23   8399400  35.140822   \n",
       "2010-01-07 00:00:00+00:00  41.98  42.24  41.11  41.26   8981700  35.708292   \n",
       "2010-01-08 00:00:00+00:00  41.95  42.48  41.40  41.76   7907700  35.682774   \n",
       "\n",
       "                             adjHigh     adjLow    adjOpen  adjVolume  \\\n",
       "date                                                                    \n",
       "2010-01-04 00:00:00+00:00  34.810503  34.209154  34.564881    6894300   \n",
       "2010-01-05 00:00:00+00:00  34.920609  34.192214  34.581821   10641200   \n",
       "2010-01-06 00:00:00+00:00  35.293276  34.869791  34.920609    8399400   \n",
       "2010-01-07 00:00:00+00:00  35.929449  34.968268  35.095858    8981700   \n",
       "2010-01-08 00:00:00+00:00  36.133593  35.214943  35.521159    7907700   \n",
       "\n",
       "                           divCash  splitFactor  \n",
       "date                                             \n",
       "2010-01-04 00:00:00+00:00     0.00          1.0  \n",
       "2010-01-05 00:00:00+00:00     0.00          1.0  \n",
       "2010-01-06 00:00:00+00:00     0.00          1.0  \n",
       "2010-01-07 00:00:00+00:00     0.18          1.0  \n",
       "2010-01-08 00:00:00+00:00     0.00          1.0  "
      ]
     },
     "execution_count": 7,
     "metadata": {},
     "output_type": "execute_result"
    }
   ],
   "source": [
    "df.head()"
   ]
  },
  {
   "cell_type": "code",
   "execution_count": 8,
   "metadata": {},
   "outputs": [
    {
     "data": {
      "image/png": "[encoded data removed]",
      "text/plain": [
       "<Figure size 1152x576 with 1 Axes>"
      ]
     },
     "metadata": {
      "needs_background": "light"
     },
     "output_type": "display_data"
    }
   ],
   "source": [
    "#Visualize the closing price history\n",
    "plt.figure(figsize=(16,8))\n",
    "plt.title('Close Price History')\n",
    "plt.plot(df['close'])\n",
    "plt.xlabel('Date',fontsize=18)\n",
    "plt.ylabel('Close Price USD ($)',fontsize=18)\n",
    "plt.show()"
   ]
  },
  {
   "cell_type": "code",
   "execution_count": 9,
   "metadata": {},
   "outputs": [],
   "source": [
    "#Create a new dataframe with only the 'Close' column\n",
    "data = df.filter(['close'])\n",
    "#Converting the dataframe to a numpy array\n",
    "dataset = data.values\n",
    "#Get /Compute the number of rows to train the model on\n",
    "training_data_len = math.ceil( len(dataset) *.8) "
   ]
  },
  {
   "cell_type": "code",
   "execution_count": 10,
   "metadata": {},
   "outputs": [],
   "source": [
    "training_df=data[:training_data_len]"
   ]
  },
  {
   "cell_type": "code",
   "execution_count": 11,
   "metadata": {},
   "outputs": [],
   "source": [
    "#Scale the all of the data to be values between 0 and 1 \n",
    "scaler = MinMaxScaler(feature_range=(0, 1)) \n",
    "scaled_data = scaler.fit_transform(dataset)"
   ]
  },
  {
   "cell_type": "code",
   "execution_count": 12,
   "metadata": {},
   "outputs": [],
   "source": [
    "data[\"scaled_close\"]=scaled_data\n"
   ]
  },
  {
   "cell_type": "code",
   "execution_count": 13,
   "metadata": {},
   "outputs": [],
   "source": [
    "moving_avg = data.scaled_close.rolling(60, min_periods=60).mean()"
   ]
  },
  {
   "cell_type": "code",
   "execution_count": 14,
   "metadata": {},
   "outputs": [],
   "source": [
    "exponential_moving_avg = data.scaled_close.ewm(alpha=0.1, adjust=False).mean()"
   ]
  },
  {
   "cell_type": "code",
   "execution_count": 15,
   "metadata": {},
   "outputs": [],
   "source": [
    "cumulative_moving_avg = data.scaled_close.expanding().mean()"
   ]
  },
  {
   "cell_type": "code",
   "execution_count": 16,
   "metadata": {},
   "outputs": [],
   "source": [
    "#Create the scaled training data set \n",
    "train_data = scaled_data[0:training_data_len  , : ]\n",
    "train_data_unscaled = dataset[0:training_data_len  , : ]\n",
    "\n",
    "#Split the data into x_train and y_train data sets\n",
    "x_train=[]\n",
    "y_train = []\n",
    "y_train_simple = []\n",
    "\n",
    "for i in range(60,len(train_data)):\n",
    "\n",
    "    x_train.append(np.append(train_data[i-60:i,0], (moving_avg[i], exponential_moving_avg[i], cumulative_moving_avg[i])))\n",
    "\n",
    "\n",
    "    y_train.append(train_data[i,0])\n",
    "    y_train_simple.append(np.sign(train_data_unscaled[i,0]- train_data_unscaled[i-1,0]))"
   ]
  },
  {
   "cell_type": "code",
   "execution_count": 17,
   "metadata": {},
   "outputs": [],
   "source": [
    "#Convert x_train and y_train to numpy arrays\n",
    "x_train, y_train, y_train_simple = np.array(x_train), np.array(y_train), np.array(y_train_simple)"
   ]
  },
  {
   "cell_type": "code",
   "execution_count": 18,
   "metadata": {},
   "outputs": [],
   "source": [
    "#Reshape the data into the shape accepted by the LSTM\n",
    "x_train = np.reshape(x_train, (x_train.shape[0],x_train.shape[1],1))"
   ]
  },
  {
   "cell_type": "code",
   "execution_count": 19,
   "metadata": {},
   "outputs": [
    {
     "data": {
      "text/plain": [
       "(1953, 63, 1)"
      ]
     },
     "execution_count": 19,
     "metadata": {},
     "output_type": "execute_result"
    }
   ],
   "source": [
    "x_train.shape"
   ]
  },
  {
   "cell_type": "code",
   "execution_count": 20,
   "metadata": {},
   "outputs": [],
   "source": [
    "#Build the LSTM network model\n",
    "model = Sequential()\n",
    "model.add(LSTM(units=50, return_sequences=True,input_shape=(x_train.shape[1],1)))\n",
    "model.add(LSTM(units=50, return_sequences=False))\n",
    "model.add(Dense(units=25))\n",
    "model.add(Dense(units=1))"
   ]
  },
  {
   "cell_type": "code",
   "execution_count": 21,
   "metadata": {},
   "outputs": [
    {
     "data": {
      "text/plain": [
       "tensorflow.python.keras.engine.sequential.Sequential"
      ]
     },
     "execution_count": 21,
     "metadata": {},
     "output_type": "execute_result"
    }
   ],
   "source": [
    "type(model)"
   ]
  },
  {
   "cell_type": "code",
   "execution_count": 22,
   "metadata": {},
   "outputs": [],
   "source": [
    "import tensorflow as tf\n",
    "model_simple = tf.keras.models.clone_model(model)"
   ]
  },
  {
   "cell_type": "code",
   "execution_count": 23,
   "metadata": {},
   "outputs": [],
   "source": [
    "#Compile the model\n",
    "\n",
    "model.compile(optimizer='adam', loss='mean_squared_error')\n",
    "# model_simple.compile(optimizer='adam', loss='mean_squared_error')\n"
   ]
  },
  {
   "cell_type": "code",
   "execution_count": 24,
   "metadata": {},
   "outputs": [],
   "source": [
    "# #Train the model\n",
    "# model_simple.fit(x_train, y_train_simple, batch_size=1, epochs=1)"
   ]
  },
  {
   "cell_type": "code",
   "execution_count": 25,
   "metadata": {},
   "outputs": [
    {
     "name": "stdout",
     "output_type": "stream",
     "text": [
      "1953/1953 [==============================] - 59s 30ms/step - loss: 0.0013\n"
     ]
    },
    {
     "data": {
      "text/plain": [
       "<tensorflow.python.keras.callbacks.History at 0x1a42c20c50>"
      ]
     },
     "execution_count": 25,
     "metadata": {},
     "output_type": "execute_result"
    }
   ],
   "source": [
    "#Train the model\n",
    "model.fit(x_train, y_train, batch_size=1, epochs=1)"
   ]
  },
  {
   "cell_type": "code",
   "execution_count": 26,
   "metadata": {},
   "outputs": [],
   "source": [
    "#Test data set\n",
    "test_data = scaled_data[training_data_len - 60: , : ]\n",
    "moving_avg_test= moving_avg[training_data_len-61:]\n",
    "exponential_moving_avg_test= exponential_moving_avg[training_data_len-61:]\n",
    "cumulative_moving_avg_test = cumulative_moving_avg[training_data_len-61:]\n",
    "\n",
    "#Create the x_test and y_test data sets\n",
    "x_test = []\n",
    "y_test =  dataset[training_data_len : , : ]\n",
    "y_test_simple = np.sign(y_test)\n",
    "for i in range(60,len(test_data)):\n",
    "    \n",
    "    x_test.append(np.append(test_data[i-60:i,0],(moving_avg_test[i],exponential_moving_avg_test[i],cumulative_moving_avg_test[i])))\n",
    "    "
   ]
  },
  {
   "cell_type": "code",
   "execution_count": 27,
   "metadata": {},
   "outputs": [],
   "source": [
    "# y_test_simple=[]\n",
    "# for i in range(training_data_len,len(dataset)):\n",
    "#     y_test_simple.append(np.sign(dataset[i]-dataset[i-1]))"
   ]
  },
  {
   "cell_type": "code",
   "execution_count": 28,
   "metadata": {},
   "outputs": [],
   "source": [
    "#Convert x_test to a numpy array \n",
    "x_test = np.array(x_test)"
   ]
  },
  {
   "cell_type": "code",
   "execution_count": 29,
   "metadata": {},
   "outputs": [],
   "source": [
    "#Reshape the data into the shape accepted by the LSTM\n",
    "x_test = np.reshape(x_test, (x_test.shape[0],x_test.shape[1],1))"
   ]
  },
  {
   "cell_type": "code",
   "execution_count": 30,
   "metadata": {},
   "outputs": [],
   "source": [
    "#Getting the models predicted price values\n",
    "predictions = model.predict(x_test) \n",
    "predictions = scaler.inverse_transform(predictions)#Undo scaling"
   ]
  },
  {
   "cell_type": "code",
   "execution_count": 31,
   "metadata": {},
   "outputs": [
    {
     "data": {
      "text/plain": [
       "(503, 63, 1)"
      ]
     },
     "execution_count": 31,
     "metadata": {},
     "output_type": "execute_result"
    }
   ],
   "source": [
    "x_test.shape"
   ]
  },
  {
   "cell_type": "code",
   "execution_count": 32,
   "metadata": {},
   "outputs": [
    {
     "data": {
      "text/plain": [
       "(503, 1)"
      ]
     },
     "execution_count": 32,
     "metadata": {},
     "output_type": "execute_result"
    }
   ],
   "source": [
    "predictions.shape"
   ]
  },
  {
   "cell_type": "code",
   "execution_count": 33,
   "metadata": {},
   "outputs": [
    {
     "data": {
      "text/plain": [
       "2.442345790730609"
      ]
     },
     "execution_count": 33,
     "metadata": {},
     "output_type": "execute_result"
    }
   ],
   "source": [
    "rmse=np.sqrt(np.mean(((predictions- y_test)**2)))\n",
    "rmse\n",
    "\n",
    "#60 days:  2.58\n",
    "#60 days + moving avg:  2.085\n",
    "#60 days + moving avg + exp moving avg: \n",
    "#60 days + moving avg + exp moving avg + cumulative moving av: 2.44"
   ]
  },
  {
   "cell_type": "code",
   "execution_count": 34,
   "metadata": {},
   "outputs": [],
   "source": [
    "# predictions_simple = model_simple.predict(x_test) \n",
    "# rmse_simple=np.sqrt(np.mean(((predictions_simple- y_test_simple)**2)))\n",
    "# rmse_simple"
   ]
  },
  {
   "cell_type": "code",
   "execution_count": 35,
   "metadata": {},
   "outputs": [
    {
     "name": "stderr",
     "output_type": "stream",
     "text": [
      "/opt/anaconda3/lib/python3.7/site-packages/ipykernel_launcher.py:4: SettingWithCopyWarning: \n",
      "A value is trying to be set on a copy of a slice from a DataFrame.\n",
      "Try using .loc[row_indexer,col_indexer] = value instead\n",
      "\n",
      "See the caveats in the documentation: https://pandas.pydata.org/pandas-docs/stable/user_guide/indexing.html#returning-a-view-versus-a-copy\n",
      "  after removing the cwd from sys.path.\n"
     ]
    },
    {
     "data": {
      "image/png": "[encoded data removed]",
      "text/plain": [
       "<Figure size 1152x576 with 1 Axes>"
      ]
     },
     "metadata": {
      "needs_background": "light"
     },
     "output_type": "display_data"
    }
   ],
   "source": [
    "#Plot/Create the data for the graph\n",
    "train = data[:training_data_len]\n",
    "valid = data[training_data_len:]\n",
    "valid['Predictions'] = predictions\n",
    "#Visualize the data\n",
    "plt.figure(figsize=(16,8))\n",
    "plt.title('Model')\n",
    "plt.xlabel('Date', fontsize=18)\n",
    "plt.ylabel('Close Price USD ($)', fontsize=18)\n",
    "plt.plot(train['close'])\n",
    "plt.plot(valid[['close', 'Predictions']])\n",
    "plt.legend(['Train', 'Val', 'Predictions'], loc='lower right')\n",
    "plt.show()"
   ]
  }
 ],
 "metadata": {
  "kernelspec": {
   "display_name": "Python 3",
   "language": "python",
   "name": "python3"
  },
  "language_info": {
   "codemirror_mode": {
    "name": "ipython",
    "version": 3
   },
   "file_extension": ".py",
   "mimetype": "text/x-python",
   "name": "python",
   "nbconvert_exporter": "python",
   "pygments_lexer": "ipython3",
   "version": "3.7.6"
  }
 },
 "nbformat": 4,
 "nbformat_minor": 4
}
